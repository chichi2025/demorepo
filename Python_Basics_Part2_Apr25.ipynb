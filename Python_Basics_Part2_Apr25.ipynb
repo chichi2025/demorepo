{
  "nbformat": 4,
  "nbformat_minor": 0,
  "metadata": {
    "colab": {
      "provenance": [],
      "include_colab_link": true
    },
    "kernelspec": {
      "name": "python3",
      "display_name": "Python 3"
    },
    "language_info": {
      "name": "python"
    }
  },
  "cells": [
    {
      "cell_type": "markdown",
      "metadata": {
        "id": "view-in-github",
        "colab_type": "text"
      },
      "source": [
        "<a href=\"https://colab.research.google.com/github/chichi2025/demorepo/blob/main/Python_Basics_Part2_Apr25.ipynb\" target=\"_parent\"><img src=\"https://colab.research.google.com/assets/colab-badge.svg\" alt=\"Open In Colab\"/></a>"
      ]
    },
    {
      "cell_type": "markdown",
      "source": [
        "Python Functions\n",
        "types of argument\n",
        "Lambda Function\n",
        "OOPS\n",
        "Exception Handling"
      ],
      "metadata": {
        "id": "6LrXt9yEpLC1"
      }
    },
    {
      "cell_type": "code",
      "execution_count": null,
      "metadata": {
        "id": "DrAVEycMoAcF"
      },
      "outputs": [],
      "source": [
        "#Python Function: Write once and use many\n",
        "#1.Define Function(body) 2.Invoke(calling)\n",
        "\n",
        "def greet():\n",
        "    print(\"Hello\")\n",
        "    print(\"Good Morning\")"
      ]
    },
    {
      "cell_type": "code",
      "source": [
        "greet()  #invoke"
      ],
      "metadata": {
        "colab": {
          "base_uri": "https://localhost:8080/"
        },
        "id": "FBZEVfpoqrFZ",
        "outputId": "adcaf37e-0990-43fa-f07a-cbd45e56b010"
      },
      "execution_count": null,
      "outputs": [
        {
          "output_type": "stream",
          "name": "stdout",
          "text": [
            "Hello\n",
            "Good Morning\n"
          ]
        }
      ]
    },
    {
      "cell_type": "code",
      "source": [
        "greet()\n",
        "greet()"
      ],
      "metadata": {
        "colab": {
          "base_uri": "https://localhost:8080/"
        },
        "id": "8kRkTSHYqtXK",
        "outputId": "2aa5b45e-4e7b-487d-f1c1-b654fcb0cd4c"
      },
      "execution_count": null,
      "outputs": [
        {
          "output_type": "stream",
          "name": "stdout",
          "text": [
            "Hello\n",
            "Good Morning\n",
            "Hello\n",
            "Good Morning\n"
          ]
        }
      ]
    },
    {
      "cell_type": "code",
      "source": [
        "#Function Arguments and Return\n",
        "def add(x,y):   #x,y are arguments\n",
        "    c=x+y\n",
        "    return c"
      ],
      "metadata": {
        "id": "xhSo11OJqzNT"
      },
      "execution_count": null,
      "outputs": []
    },
    {
      "cell_type": "code",
      "source": [
        "add(45,36)"
      ],
      "metadata": {
        "colab": {
          "base_uri": "https://localhost:8080/"
        },
        "id": "rYi86_kPrYQj",
        "outputId": "4ac7e4fb-9979-49b3-c7dc-056d32e08113"
      },
      "execution_count": null,
      "outputs": [
        {
          "output_type": "execute_result",
          "data": {
            "text/plain": [
              "81"
            ]
          },
          "metadata": {},
          "execution_count": 6
        }
      ]
    },
    {
      "cell_type": "code",
      "source": [
        "result=add(78,36)\n",
        "print(result)"
      ],
      "metadata": {
        "colab": {
          "base_uri": "https://localhost:8080/"
        },
        "id": "LaV9SmTnreli",
        "outputId": "d6c28935-6b77-4de5-ca3b-7b0892bd0236"
      },
      "execution_count": null,
      "outputs": [
        {
          "output_type": "stream",
          "name": "stdout",
          "text": [
            "114\n"
          ]
        }
      ]
    },
    {
      "cell_type": "code",
      "source": [
        "#Function to return even numbers from a list\n",
        "def even_item(lst):\n",
        "  even=[]\n",
        "  for i in lst:\n",
        "    if i%2==0:\n",
        "      even.append(i)\n",
        "  return even\n",
        "\n",
        "\n",
        "lst=[45,69,87,32,65,85,45,12,96,85]\n",
        "print(even_item(lst))"
      ],
      "metadata": {
        "colab": {
          "base_uri": "https://localhost:8080/"
        },
        "id": "cjT8G06KrkrR",
        "outputId": "c5168fc0-79fd-4fc4-d7b3-7486f5cdcd82"
      },
      "execution_count": null,
      "outputs": [
        {
          "output_type": "stream",
          "name": "stdout",
          "text": [
            "[32, 12, 96]\n"
          ]
        }
      ]
    },
    {
      "cell_type": "code",
      "source": [
        "#Types of Arguments:the way arguments passed into a function\n",
        "#1.Required-Positional Arguments\n",
        "\n",
        "uname=input(\"Enter you name:\")\n",
        "uage=int(input(\"Enter your age:\"))\n",
        "\n",
        "def user(name,age):\n",
        "    print(\"Name:\",name)\n",
        "    print(\"Age:\",age)\n",
        "\n",
        "user(uname,uage)\n",
        "user(uname)"
      ],
      "metadata": {
        "colab": {
          "base_uri": "https://localhost:8080/",
          "height": 249
        },
        "id": "4-a-7rgPs2xE",
        "outputId": "8292fbb1-269e-4bca-a827-6fe5570f131a"
      },
      "execution_count": null,
      "outputs": [
        {
          "output_type": "stream",
          "name": "stdout",
          "text": [
            "Enter you name:Amit\n",
            "Enter your age:45\n",
            "Name: Amit\n",
            "Age: 45\n"
          ]
        },
        {
          "output_type": "error",
          "ename": "TypeError",
          "evalue": "user() missing 1 required positional argument: 'age'",
          "traceback": [
            "\u001b[0;31m---------------------------------------------------------------------------\u001b[0m",
            "\u001b[0;31mTypeError\u001b[0m                                 Traceback (most recent call last)",
            "\u001b[0;32m<ipython-input-11-66ee3d6b9634>\u001b[0m in \u001b[0;36m<cell line: 0>\u001b[0;34m()\u001b[0m\n\u001b[1;32m     10\u001b[0m \u001b[0;34m\u001b[0m\u001b[0m\n\u001b[1;32m     11\u001b[0m \u001b[0muser\u001b[0m\u001b[0;34m(\u001b[0m\u001b[0muname\u001b[0m\u001b[0;34m,\u001b[0m\u001b[0muage\u001b[0m\u001b[0;34m)\u001b[0m\u001b[0;34m\u001b[0m\u001b[0;34m\u001b[0m\u001b[0m\n\u001b[0;32m---> 12\u001b[0;31m \u001b[0muser\u001b[0m\u001b[0;34m(\u001b[0m\u001b[0muname\u001b[0m\u001b[0;34m)\u001b[0m\u001b[0;34m\u001b[0m\u001b[0;34m\u001b[0m\u001b[0m\n\u001b[0m",
            "\u001b[0;31mTypeError\u001b[0m: user() missing 1 required positional argument: 'age'"
          ]
        }
      ]
    },
    {
      "cell_type": "code",
      "source": [
        "uname=input(\"Enter you name:\")\n",
        "uage=int(input(\"Enter your age:\"))\n",
        "\n",
        "user(uage,uname)  #Positional"
      ],
      "metadata": {
        "colab": {
          "base_uri": "https://localhost:8080/"
        },
        "id": "TF3fdLw0uK-Z",
        "outputId": "82bf9281-b610-4a4d-dcbc-18acb81f85e9"
      },
      "execution_count": null,
      "outputs": [
        {
          "output_type": "stream",
          "name": "stdout",
          "text": [
            "Enter you name:Amit\n",
            "Enter your age:45\n",
            "Name: 45\n",
            "Age: Amit\n"
          ]
        }
      ]
    },
    {
      "cell_type": "code",
      "source": [
        "#2.Keyword Arguments\n",
        "uname=input(\"Enter you name:\")\n",
        "uage=int(input(\"Enter your age:\"))\n",
        "\n",
        "user(name=uname,age=uage)  #Keywords\n",
        "#Change the order\n",
        "user(age=uage,name=uname) #Order do not matter"
      ],
      "metadata": {
        "colab": {
          "base_uri": "https://localhost:8080/"
        },
        "id": "iS_YbXuAu1a_",
        "outputId": "a179dafb-d657-456e-f560-654ba4d459ad"
      },
      "execution_count": null,
      "outputs": [
        {
          "output_type": "stream",
          "name": "stdout",
          "text": [
            "Enter you name:Amit\n",
            "Enter your age:45\n",
            "Name: Amit\n",
            "Age: 45\n",
            "Name: Amit\n",
            "Age: 45\n"
          ]
        }
      ]
    },
    {
      "cell_type": "code",
      "source": [
        "#Default Arguments\n",
        "def func1(name,location='Mumbai'):  #location is default argument\n",
        "    print(\"Name:\",name)\n",
        "    print(\"Location:\",location)\n",
        "\n",
        "func1('Amit','Banglore')\n",
        "func1('Raghav')  #I am missing location"
      ],
      "metadata": {
        "colab": {
          "base_uri": "https://localhost:8080/"
        },
        "id": "HOzCbCJlv7i4",
        "outputId": "8317d8e8-c7ae-433e-82bf-41314da5acca"
      },
      "execution_count": null,
      "outputs": [
        {
          "output_type": "stream",
          "name": "stdout",
          "text": [
            "Name: Amit\n",
            "Location: Banglore\n",
            "Name: Raghav\n",
            "Location: Mumbai\n"
          ]
        }
      ]
    },
    {
      "cell_type": "code",
      "source": [
        "#4.Arbitary Argument----->DIY"
      ],
      "metadata": {
        "id": "ptmJd_-9xKNK"
      },
      "execution_count": null,
      "outputs": []
    },
    {
      "cell_type": "code",
      "source": [
        "#Conbination of arguments\n",
        "def func2(arg1,arg2,arg3):\n",
        "    print(\"arg1:\",arg1)\n",
        "    print(\"arg2:\",arg2)\n",
        "    print(\"arg3:\",arg3)\n",
        "\n",
        "func2(1000,arg2='project1',arg3='Manager')\n",
        "func2(arg1=2000,'project',arg3='Manager')  #not allowed"
      ],
      "metadata": {
        "colab": {
          "base_uri": "https://localhost:8080/",
          "height": 108
        },
        "id": "O_vxJmOXxR1i",
        "outputId": "651a54a9-d4fd-42f6-ad04-cb669f7eebda"
      },
      "execution_count": null,
      "outputs": [
        {
          "output_type": "error",
          "ename": "SyntaxError",
          "evalue": "positional argument follows keyword argument (<ipython-input-18-f3211fa5de86>, line 8)",
          "traceback": [
            "\u001b[0;36m  File \u001b[0;32m\"<ipython-input-18-f3211fa5de86>\"\u001b[0;36m, line \u001b[0;32m8\u001b[0m\n\u001b[0;31m    func2(arg1=2000,'project',arg3='Manager')\u001b[0m\n\u001b[0m                                            ^\u001b[0m\n\u001b[0;31mSyntaxError\u001b[0m\u001b[0;31m:\u001b[0m positional argument follows keyword argument\n"
          ]
        }
      ]
    },
    {
      "cell_type": "code",
      "source": [
        "#Scope/lifetime of the Varibles: global and local\n",
        "var1=100   #global scope variable\n",
        "\n",
        "def func3():\n",
        "  var2=200  #local Scope variable\n",
        "  print(\"var1:\",var1)\n",
        "  print(\"var2:\",var2)\n",
        "\n",
        "func3()\n",
        "print(\"var1:\",var1)\n",
        "print(\"var2:\",var2) #calling local scope variable out side the scope"
      ],
      "metadata": {
        "colab": {
          "base_uri": "https://localhost:8080/",
          "height": 231
        },
        "id": "6jUpDalyy0s8",
        "outputId": "b28035bb-5462-4a6d-dc56-19c3ab05ffc6"
      },
      "execution_count": null,
      "outputs": [
        {
          "output_type": "stream",
          "name": "stdout",
          "text": [
            "var1: 100\n",
            "var2: 200\n",
            "var1: 100\n"
          ]
        },
        {
          "output_type": "error",
          "ename": "NameError",
          "evalue": "name 'var2' is not defined",
          "traceback": [
            "\u001b[0;31m---------------------------------------------------------------------------\u001b[0m",
            "\u001b[0;31mNameError\u001b[0m                                 Traceback (most recent call last)",
            "\u001b[0;32m<ipython-input-22-60e601693f35>\u001b[0m in \u001b[0;36m<cell line: 0>\u001b[0;34m()\u001b[0m\n\u001b[1;32m      9\u001b[0m \u001b[0mfunc3\u001b[0m\u001b[0;34m(\u001b[0m\u001b[0;34m)\u001b[0m\u001b[0;34m\u001b[0m\u001b[0;34m\u001b[0m\u001b[0m\n\u001b[1;32m     10\u001b[0m \u001b[0mprint\u001b[0m\u001b[0;34m(\u001b[0m\u001b[0;34m\"var1:\"\u001b[0m\u001b[0;34m,\u001b[0m\u001b[0mvar1\u001b[0m\u001b[0;34m)\u001b[0m\u001b[0;34m\u001b[0m\u001b[0;34m\u001b[0m\u001b[0m\n\u001b[0;32m---> 11\u001b[0;31m \u001b[0mprint\u001b[0m\u001b[0;34m(\u001b[0m\u001b[0;34m\"var2:\"\u001b[0m\u001b[0;34m,\u001b[0m\u001b[0mvar2\u001b[0m\u001b[0;34m)\u001b[0m \u001b[0;31m#calling local scope variable out side the scope\u001b[0m\u001b[0;34m\u001b[0m\u001b[0;34m\u001b[0m\u001b[0m\n\u001b[0m",
            "\u001b[0;31mNameError\u001b[0m: name 'var2' is not defined"
          ]
        }
      ]
    },
    {
      "cell_type": "code",
      "source": [
        "#Change global scope variables\n",
        "var1=100   #global scope variable\n",
        "\n",
        "def func3():\n",
        "  global var1\n",
        "  var1=500  #changing the global var\n",
        "  var2=200  #local Scope variable\n",
        "  print(\"var1:\",var1)\n",
        "  print(\"var2:\",var2)\n",
        "\n",
        "func3()\n",
        "print(\"var1:\",var1)"
      ],
      "metadata": {
        "colab": {
          "base_uri": "https://localhost:8080/"
        },
        "id": "4GK68b9tzl5p",
        "outputId": "5a7f5bc8-61a7-48c3-9008-956914f245d9"
      },
      "execution_count": null,
      "outputs": [
        {
          "output_type": "stream",
          "name": "stdout",
          "text": [
            "var1: 500\n",
            "var2: 200\n",
            "var1: 500\n"
          ]
        }
      ]
    },
    {
      "cell_type": "code",
      "source": [
        "#Python lambda functions/expressions: small and restricted function\n",
        "#Single line body/single expression\n",
        "#No name function\n",
        "#default return\n",
        "\n",
        "def add(x,y):   #x,y are arguments\n",
        "    c=x+y\n",
        "    return c"
      ],
      "metadata": {
        "id": "_RRIGzwx2Rbz"
      },
      "execution_count": null,
      "outputs": []
    },
    {
      "cell_type": "code",
      "source": [
        "#var_result=lambda <arguments>:<expression>\n",
        "result=lambda x,y:x+y\n",
        "print(result(10,20)) #method1\n",
        "print((lambda x,y:x+y)(45,36)) #method2"
      ],
      "metadata": {
        "colab": {
          "base_uri": "https://localhost:8080/"
        },
        "id": "9mE9AHpP3bsv",
        "outputId": "11938226-cf34-4a9b-ff81-542f8e7117aa"
      },
      "execution_count": null,
      "outputs": [
        {
          "output_type": "stream",
          "name": "stdout",
          "text": [
            "30\n",
            "81\n"
          ]
        }
      ]
    },
    {
      "cell_type": "code",
      "source": [
        "#less code-more work\n",
        "#Advanced Function: filter(),map(),reduce()\n",
        "#lambda can be passed into advanced function"
      ],
      "metadata": {
        "id": "Ex7ukdxP4U5K"
      },
      "execution_count": null,
      "outputs": []
    },
    {
      "cell_type": "code",
      "source": [
        "#filter(lambda exp,collection)\n",
        "#Filter Function to return even numbers from a list\n",
        "print(list(filter(lambda x:x%2==0,[45,69,87,32,65,85,45,12,96,85])))"
      ],
      "metadata": {
        "colab": {
          "base_uri": "https://localhost:8080/"
        },
        "id": "1c68tqh44k56",
        "outputId": "04e28849-bb99-40a3-a608-85640cb940c0"
      },
      "execution_count": null,
      "outputs": [
        {
          "output_type": "stream",
          "name": "stdout",
          "text": [
            "[32, 12, 96]\n"
          ]
        }
      ]
    },
    {
      "cell_type": "code",
      "source": [
        "#map(lambda exp,collection)\n",
        "print(list(map(lambda x:x**3,[10,20,30,40,50,60])))"
      ],
      "metadata": {
        "colab": {
          "base_uri": "https://localhost:8080/"
        },
        "id": "0hzRixE_5rbR",
        "outputId": "6cd83710-500b-4496-88ed-e5aee115f004"
      },
      "execution_count": null,
      "outputs": [
        {
          "output_type": "stream",
          "name": "stdout",
          "text": [
            "[1000, 8000, 27000, 64000, 125000, 216000]\n"
          ]
        }
      ]
    },
    {
      "cell_type": "code",
      "source": [
        "print(list(filter(lambda x:x%2==0,[1,2,3,4,5,6,7,8])))"
      ],
      "metadata": {
        "colab": {
          "base_uri": "https://localhost:8080/"
        },
        "id": "22JWVO6F6i51",
        "outputId": "8feed8d8-4e66-401b-b688-d41a12eb4298"
      },
      "execution_count": null,
      "outputs": [
        {
          "output_type": "stream",
          "name": "stdout",
          "text": [
            "[2, 4, 6, 8]\n"
          ]
        }
      ]
    }
  ]
}